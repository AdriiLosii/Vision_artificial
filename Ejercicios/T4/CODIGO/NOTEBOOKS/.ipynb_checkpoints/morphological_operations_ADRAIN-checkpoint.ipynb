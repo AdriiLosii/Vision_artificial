{
 "cells": [
  {
   "cell_type": "markdown",
   "metadata": {
    "id": "j4RpK9pawQzP"
   },
   "source": [
    "# OpenCV Morphological Operations\n",
    "### by [PyImageSearch.com](http://www.pyimagesearch.com)"
   ]
  },
  {
   "cell_type": "markdown",
   "metadata": {
    "id": "8ntZ1AkXZIxY"
   },
   "source": [
    "## Welcome to **[PyImageSearch University](https://pyimg.co/university)** Jupyter Notebooks!\n",
    "\n",
    "This notebook is associated with the [OpenCV Morphological Operations](https://www.pyimagesearch.com/2021/04/28/opencv-morphological-operations/) blog post published on 2021-04-28.\n",
    "\n",
    "Only the code for the blog post is here. Most codeblocks have a 1:1 relationship with what you find in the blog post with two exceptions: (1) Python classes are not separate files as they are typically organized with PyImageSearch projects, and (2) Command Line Argument parsing is replaced with an `args` dictionary that you can manipulate as needed.\n",
    "\n",
    "We recommend that you execute (press ▶️) the code block-by-block, as-is, before adjusting parameters and `args` inputs. Once you've verified that the code is working, you are welcome to hack with it and learn from manipulating inputs, settings, and parameters. For more information on using Jupyter and Colab, please refer to these resources:\n",
    "\n",
    "*   [Jupyter Notebook User Interface](https://jupyter-notebook.readthedocs.io/en/stable/notebook.html#notebook-user-interface)\n",
    "*   [Overview of Google Colaboratory Features](https://colab.research.google.com/notebooks/basic_features_overview.ipynb)\n",
    "\n",
    "As a reminder, these PyImageSearch University Jupyter Notebooks are not for sharing; please refer to the **Copyright** directly below and **Code License Agreement** in the last cell of this notebook. \n",
    "\n",
    "Happy hacking!\n",
    "\n",
    "*Adrian*\n",
    "\n",
    "<hr>\n",
    "\n",
    "***Copyright:*** *The contents of this Jupyter Notebook, unless otherwise indicated, are Copyright 2021 Adrian Rosebrock, PyimageSearch.com. All rights reserved. Content like this is made possible by the time invested by the authors. If you received this Jupyter Notebook and did not purchase it, please consider making future content possible by joining PyImageSearch University at https://pyimg.co/university today.*"
   ]
  },
  {
   "cell_type": "markdown",
   "metadata": {
    "id": "NFhAzQB3aNMa"
   },
   "source": [
    "### Download the code zip file"
   ]
  },
  {
   "cell_type": "code",
   "execution_count": null,
   "metadata": {
    "id": "7y0LG1EuaRlB"
   },
   "outputs": [],
   "source": [
    "!wget https://pyimagesearch-code-downloads.s3-us-west-2.amazonaws.com/morphological-operations/morphological-operations.zip\n",
    "!unzip -qq morphological-operations.zip\n",
    "%cd morphological-operations"
   ]
  },
  {
   "cell_type": "markdown",
   "metadata": {
    "id": "_SgTVT3HagGZ"
   },
   "source": [
    "## Blog Post Code"
   ]
  },
  {
   "cell_type": "markdown",
   "metadata": {
    "id": "wcrOk6pURp50"
   },
   "source": [
    "### Import Packages"
   ]
  },
  {
   "cell_type": "code",
   "execution_count": null,
   "metadata": {
    "id": "VJaCNlDDRz6d"
   },
   "outputs": [],
   "source": [
    "# import the necessary packages\n",
    "from matplotlib import pyplot as plt\n",
    "import argparse\n",
    "import cv2"
   ]
  },
  {
   "cell_type": "markdown",
   "metadata": {
    "id": "lBrLwCtN5kqy"
   },
   "source": [
    "### Function to display images in Jupyter Notebooks and Google Colab"
   ]
  },
  {
   "cell_type": "code",
   "execution_count": null,
   "metadata": {
    "id": "fRw969Dp5Kdm"
   },
   "outputs": [],
   "source": [
    "def plt_imshow(title, image):\n",
    "\t# convert the image frame BGR to RGB color space and display it\n",
    "\timage = cv2.cvtColor(image, cv2.COLOR_BGR2RGB)\n",
    "\tplt.imshow(image)\n",
    "\tplt.title(title)\n",
    "\tplt.grid(False)\n",
    "\tplt.show()"
   ]
  },
  {
   "cell_type": "markdown",
   "metadata": {
    "id": "SuN7ppX_eKp3"
   },
   "source": [
    "## Morphological operations"
   ]
  },
  {
   "cell_type": "markdown",
   "metadata": {
    "id": "Jppw5-Bd56H-"
   },
   "source": [
    "### Erosion"
   ]
  },
  {
   "cell_type": "code",
   "execution_count": null,
   "metadata": {
    "id": "okM7Bpyeq8Kc"
   },
   "outputs": [],
   "source": [
    "# construct the argument parser and parse the arguments\n",
    "#ap = argparse.ArgumentParser()\n",
    "#ap.add_argument(\"-i\", \"--image\", required=True,\n",
    "#\thelp=\"path to input image\")\n",
    "#args = vars(ap.parse_args())\n",
    "\n",
    "# since we are using Jupyter Notebooks we can replace our argument\n",
    "# parsing code with *hard coded* arguments and values\n",
    "args = {\n",
    "\t\"image\": \"pyimagesearch_logo.png\"\n",
    "}"
   ]
  },
  {
   "cell_type": "code",
   "execution_count": null,
   "metadata": {
    "id": "0w_92Eyfczv0"
   },
   "outputs": [],
   "source": [
    "# load the image, convert it to grayscale, and display it to our\n",
    "# screen\n",
    "image = cv2.imread(args[\"image\"])\n",
    "gray = cv2.cvtColor(image, cv2.COLOR_BGR2GRAY)\n",
    "plt_imshow(\"Original\", image)\n",
    "\n",
    "# apply a series of erosions\n",
    "for i in range(0, 3):\n",
    "\teroded = cv2.erode(gray.copy(), None, iterations=i + 1)\n",
    "\tplt_imshow(\"Eroded {} times\".format(i + 1), eroded)"
   ]
  },
  {
   "cell_type": "markdown",
   "metadata": {
    "id": "gVpXumkfc2Li"
   },
   "source": [
    "### Dilation"
   ]
  },
  {
   "cell_type": "code",
   "execution_count": null,
   "metadata": {
    "id": "emxhMNbUc4p5"
   },
   "outputs": [],
   "source": [
    "# display the original image\n",
    "plt_imshow(\"Original\", image)\n",
    "\n",
    "# apply a series of dilations\n",
    "for i in range(0, 3):\n",
    "\tdilated = cv2.dilate(gray.copy(), None, iterations=i + 1)\n",
    "\tplt_imshow(\"Dilated {} times\".format(i + 1), dilated)"
   ]
  },
  {
   "cell_type": "markdown",
   "metadata": {
    "id": "3z3nDo7Sc6xI"
   },
   "source": [
    "### Opening"
   ]
  },
  {
   "cell_type": "code",
   "execution_count": null,
   "metadata": {
    "id": "0VB3hdvcc4_2"
   },
   "outputs": [],
   "source": [
    "# close all windows to cleanup the screen, then initialize a list of\n",
    "# of kernels sizes that will be applied to the image\n",
    "plt_imshow(\"Original\", image)\n",
    "kernelSizes = [(3, 3), (5, 5), (7, 7)]\n",
    "\n",
    "# loop over the kernels sizes\n",
    "for kernelSize in kernelSizes:\n",
    "\t# construct a rectangular kernel from the current size and then\n",
    "\t# apply an \"opening\" operation\n",
    "\tkernel = cv2.getStructuringElement(cv2.MORPH_RECT, kernelSize)\n",
    "\topening = cv2.morphologyEx(gray, cv2.MORPH_OPEN, kernel)\n",
    "\tplt_imshow(\"Opening: ({}, {})\".format(\n",
    "\t\tkernelSize[0], kernelSize[1]), opening)"
   ]
  },
  {
   "cell_type": "markdown",
   "metadata": {
    "id": "UzVu2l-hdA8_"
   },
   "source": [
    "### Closing"
   ]
  },
  {
   "cell_type": "code",
   "execution_count": null,
   "metadata": {
    "id": "S_A-UMApc-pc"
   },
   "outputs": [],
   "source": [
    "# display the original image\n",
    "plt_imshow(\"Original\", image)\n",
    "\n",
    "# loop over the kernels sizes again\n",
    "for kernelSize in kernelSizes:\n",
    "\t# construct a rectangular kernel form the current size, but this\n",
    "\t# time apply a \"closing\" operation\n",
    "\tkernel = cv2.getStructuringElement(cv2.MORPH_RECT, kernelSize)\n",
    "\tclosing = cv2.morphologyEx(gray, cv2.MORPH_CLOSE, kernel)\n",
    "\tplt_imshow(\"Closing: ({}, {})\".format(\n",
    "\t\tkernelSize[0], kernelSize[1]), closing)"
   ]
  },
  {
   "cell_type": "markdown",
   "metadata": {
    "id": "_0buQvzudFRt"
   },
   "source": [
    "### Morphological gradient"
   ]
  },
  {
   "cell_type": "code",
   "execution_count": null,
   "metadata": {
    "id": "lT8ebSIUdIZn"
   },
   "outputs": [],
   "source": [
    "# display the original image\n",
    "plt_imshow(\"Original\", image)\n",
    "\n",
    "# loop over the kernels a final time\n",
    "for kernelSize in kernelSizes:\n",
    "\t# construct a rectangular kernel and apply a \"morphological\n",
    "\t# gradient\" operation to the image\n",
    "\tkernel = cv2.getStructuringElement(cv2.MORPH_RECT, kernelSize)\n",
    "\tgradient = cv2.morphologyEx(gray, cv2.MORPH_GRADIENT, kernel)\n",
    "\tplt_imshow(\"Gradient: ({}, {})\".format(\n",
    "\t\tkernelSize[0], kernelSize[1]), gradient)"
   ]
  },
  {
   "cell_type": "markdown",
   "metadata": {
    "id": "GCx3zL02eN-z"
   },
   "source": [
    "## Morphological hats"
   ]
  },
  {
   "cell_type": "markdown",
   "metadata": {
    "id": "6iub8AASdWEM"
   },
   "source": [
    "### Top hat/white hat and black hat"
   ]
  },
  {
   "cell_type": "code",
   "execution_count": null,
   "metadata": {
    "id": "XSRwHaBHdbi5"
   },
   "outputs": [],
   "source": [
    "# construct the argument parser and parse the arguments\n",
    "#ap = argparse.ArgumentParser()\n",
    "#ap.add_argument(\"-i\", \"--image\", required=True,\n",
    "#\thelp=\"path to input image\")\n",
    "#args = vars(ap.parse_args())\n",
    "\n",
    "# since we are using Jupyter Notebooks we can replace our argument\n",
    "# parsing code with *hard coded* arguments and values\n",
    "args = {\n",
    "\t\"image\": \"car.png\"\n",
    "}"
   ]
  },
  {
   "cell_type": "code",
   "execution_count": null,
   "metadata": {
    "id": "IcinUCoWdeZN"
   },
   "outputs": [],
   "source": [
    "# load the image and convert it to grayscale\n",
    "image = cv2.imread(args[\"image\"])\n",
    "gray = cv2.cvtColor(image, cv2.COLOR_BGR2GRAY)\n",
    "\n",
    "# construct a rectangular kernel (13x5) and apply a blackhat\n",
    "# operation which enables us to find dark regions on a light\n",
    "# background\n",
    "rectKernel = cv2.getStructuringElement(cv2.MORPH_RECT, (13, 5))\n",
    "blackhat = cv2.morphologyEx(gray, cv2.MORPH_BLACKHAT, rectKernel)"
   ]
  },
  {
   "cell_type": "code",
   "execution_count": null,
   "metadata": {
    "id": "VTIfusAbeCsH"
   },
   "outputs": [],
   "source": [
    "# similarly, a tophat (also called a \"whitehat\") operation will\n",
    "# enable us to find light regions on a dark background\n",
    "tophat = cv2.morphologyEx(gray, cv2.MORPH_TOPHAT, rectKernel)\n",
    "\n",
    "# show the output images\n",
    "plt_imshow(\"Original\", image)\n",
    "plt_imshow(\"Blackhat\", blackhat)\n",
    "plt_imshow(\"Tophat\", tophat)"
   ]
  }
 ],
 "metadata": {
  "colab": {
   "collapsed_sections": [],
   "name": "morphological_operations.ipynb",
   "provenance": []
  },
  "kernelspec": {
   "display_name": "Python 3 (ipykernel)",
   "language": "python",
   "name": "python3"
  },
  "language_info": {
   "codemirror_mode": {
    "name": "ipython",
    "version": 3
   },
   "file_extension": ".py",
   "mimetype": "text/x-python",
   "name": "python",
   "nbconvert_exporter": "python",
   "pygments_lexer": "ipython3",
   "version": "3.8.10"
  }
 },
 "nbformat": 4,
 "nbformat_minor": 1
}
